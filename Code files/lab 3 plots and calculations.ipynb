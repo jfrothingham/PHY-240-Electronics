{
 "cells": [
  {
   "cell_type": "code",
   "execution_count": 115,
   "metadata": {},
   "outputs": [],
   "source": [
    "import matplotlib.pyplot as plt\n",
    "import numpy as np\n",
    "from scipy import stats"
   ]
  },
  {
   "cell_type": "code",
   "execution_count": 116,
   "metadata": {},
   "outputs": [
    {
     "name": "stdout",
     "output_type": "stream",
     "text": [
      "voltage = -0.615 * current + 4.875\n",
      "r value: -0.975\n",
      "p value: 3.36e-07\n",
      "standard error: 0.047\n"
     ]
    }
   ],
   "source": [
    "# collected data\n",
    "current = np.array([0, 0.12, 0.25, 0.37, 0.49, 0.6, 0.71, 0.82, 0.92, 1.03, 1.14])\n",
    "voltage = np.array([4.994, 4.777, 4.694, 4.610, 4.560, 4.460, 4.393, \n",
    "                    4.360, 4.293, 4.276, 4.243])\n",
    "\n",
    "# estimated uncertainty of 1%\n",
    "delta_i = 0.01 * current\n",
    "\n",
    "# calculate linear regression\n",
    "slope, intercept, r_value, p_value, std_err = stats.linregress(current, voltage)\n",
    "line = (slope*current)+intercept\n",
    "print('voltage =',round(slope,3), '* current +', round(intercept,3))\n",
    "print('r value:', round(r_value,3))\n",
    "print('p value:', '%.2e'%p_value)\n",
    "print('standard error:', round(std_err,3))"
   ]
  },
  {
   "cell_type": "code",
   "execution_count": 117,
   "metadata": {},
   "outputs": [
    {
     "data": {
      "text/plain": [
       "<matplotlib.legend.Legend at 0x238c2525a20>"
      ]
     },
     "execution_count": 117,
     "metadata": {},
     "output_type": "execute_result"
    },
    {
     "data": {
      "image/png": "[encoded data removed]",
      "text/plain": [
       "<Figure size 360x360 with 1 Axes>"
      ]
     },
     "metadata": {
      "needs_background": "light"
     },
     "output_type": "display_data"
    }
   ],
   "source": [
    "# plot data with errorbars and linear regression\n",
    "plt.figure(figsize=(5,5))\n",
    "plt.errorbar(current, voltage, yerr=delta_i, fmt='b.', ecolor='r', \n",
    "             capsize=4, label='collected data')\n",
    "plt.errorbar(current, line, fmt='--', label='linear regression')\n",
    "plt.title('V-I Curve for 5V Power Supply')\n",
    "plt.xlabel('current $I_s$ in amps')\n",
    "plt.ylabel('voltage $V_s$ in volts')\n",
    "plt.legend()"
   ]
  },
  {
   "cell_type": "code",
   "execution_count": 106,
   "metadata": {},
   "outputs": [],
   "source": [
    "# function to calculate Rm from input Rx and Vm\n",
    "def calc_rm(rx,vm):\n",
    "    rm = (vm * rx) / (5 - vm)\n",
    "    return rm"
   ]
  },
  {
   "cell_type": "code",
   "execution_count": 107,
   "metadata": {},
   "outputs": [],
   "source": [
    "# arrays to store collected data and calculated values\n",
    "Rx_values = np.array([2.2,4.4,6.6,8.8,10.0,12.2])\n",
    "Vm_values = np.array([4.07,3.43,2.96,2.62,2.34,2.13])\n",
    "Rm_values = np.zeros(6)\n",
    "\n",
    "# calculate Rm from data\n",
    "i = 0\n",
    "while i<6:\n",
    "    current_rx = Rx_values[i]\n",
    "    current_vm = Vm_values[i]\n",
    "    Rm_values[i] = round(calc_rm(current_rx,current_vm),2)\n",
    "    i+=1\n",
    "\n",
    "avg_Rm = round(np.average(Rm_values),2)"
   ]
  },
  {
   "cell_type": "code",
   "execution_count": 110,
   "metadata": {},
   "outputs": [],
   "source": [
    "# uncertainty calculations\n",
    "Vm_uncertainty = 0.01  # estimated uncertainty of 1% on Vm\n",
    "Rx_uncertainty = 0.05  # resistor tolerance of 5%\n",
    "Rm_uncertainty = round(np.sqrt((Rx_uncertainty**2)\n",
    "                               +(Vm_uncertainty**2)\n",
    "                               +(Vm_uncertainty**2)),3)"
   ]
  },
  {
   "cell_type": "code",
   "execution_count": 111,
   "metadata": {},
   "outputs": [
    {
     "name": "stdout",
     "output_type": "stream",
     "text": [
      "all Rm values: [9.63 9.61 9.58 9.69 8.8  9.05]\n",
      "average Rm value: 9.39 +/- 5.2 %\n"
     ]
    }
   ],
   "source": [
    "# the results\n",
    "print('all Rm values:',Rm_values)\n",
    "print('average Rm value:',avg_Rm, '+/-', 100*Rm_uncertainty,'%')"
   ]
  },
  {
   "cell_type": "code",
   "execution_count": null,
   "metadata": {},
   "outputs": [],
   "source": []
  }
 ],
 "metadata": {
  "kernelspec": {
   "display_name": "Python 3",
   "language": "python",
   "name": "python3"
  },
  "language_info": {
   "codemirror_mode": {
    "name": "ipython",
    "version": 3
   },
   "file_extension": ".py",
   "mimetype": "text/x-python",
   "name": "python",
   "nbconvert_exporter": "python",
   "pygments_lexer": "ipython3",
   "version": "3.7.3"
  }
 },
 "nbformat": 4,
 "nbformat_minor": 2
}
